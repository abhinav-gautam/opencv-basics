{
 "cells": [
  {
   "cell_type": "markdown",
   "metadata": {},
   "source": [
    "# Finding Corners"
   ]
  },
  {
   "cell_type": "markdown",
   "metadata": {},
   "source": [
    "## Harris Corners\n",
    "**cv2.cornerHarris**(input image, block size, ksize, k)\n",
    "- Input image - should be grayscale and float32 type.\n",
    "- blockSize - the size of neighborhood considered for corner detection\n",
    "- ksize - aperture parameter of Sobel derivative used.\n",
    "- k - harris detector free parameter in the equation\n",
    "- **Output** – array of corner locations (x,y)"
   ]
  },
  {
   "cell_type": "code",
   "execution_count": 1,
   "metadata": {},
   "outputs": [],
   "source": [
    "import cv2\n",
    "import numpy as np"
   ]
  },
  {
   "cell_type": "code",
   "execution_count": 2,
   "metadata": {},
   "outputs": [],
   "source": [
    "# Loading image and converting it to grayscale\n",
    "image = cv2.imread(\"../images/chess.jpg\")\n",
    "gray = cv2.cvtColor(image,cv2.COLOR_BGR2GRAY)\n",
    "\n",
    "# The cornerHarris function require array datatype to be float32\n",
    "gray = np.float32(gray)\n",
    "\n",
    "harrisCorners = cv2.cornerHarris(gray,3,3,0.05)\n",
    "\n",
    "# We use dilation of the corner points to enlarge them\n",
    "kernal = np.ones((7,7),np.uint8)\n",
    "harrisCorners = cv2.dilate(harrisCorners,kernal,iterations=2)\n",
    "\n",
    "# Threshold for an optimal value, it may vary depending on the image\n",
    "image[harrisCorners > 0.025 * harrisCorners.max()] = [200,100,200]\n",
    "\n",
    "cv2.imshow(\"Harris Corners\",image)\n",
    "cv2.waitKey()\n",
    "cv2.destroyAllWindows()"
   ]
  },
  {
   "cell_type": "markdown",
   "metadata": {},
   "source": [
    "## Improved Corner Detection using - Good Features to Track\n",
    "**cv2.goodFeaturesToTrack**(input image, maxCorners, qualityLevel, minDistance)\n",
    "\n",
    "- Input Image - 8-bit or floating-point 32-bit, single-channel image.\n",
    "- maxCorners – Maximum number of corners to return. If there are more corners than are found, the strongest of them is returned.\n",
    "- qualityLevel – Parameter characterizing the minimal accepted quality of image corners. The parameter value is multiplied by the best corner quality measure (smallest eigenvalue). The corners with the quality measure less than the product are rejected. For example, if the best corner has the quality measure = 1500, and the  qualityLevel=0.01 , then all the corners with the quality - - measure less than 15 are rejected.\n",
    "- minDistance – Minimum possible Euclidean distance between the returned corners."
   ]
  },
  {
   "cell_type": "code",
   "execution_count": 8,
   "metadata": {},
   "outputs": [],
   "source": [
    "import cv2\n",
    "import numpy as np\n",
    "\n",
    "# Loading image and converting it to grayscale\n",
    "image = cv2.imread(\"../images/chess.jpg\")\n",
    "gray = cv2.cvtColor(image,cv2.COLOR_BGR2GRAY)\n",
    "\n",
    "# Getting top 50 corners \n",
    "corners = cv2.goodFeaturesToTrack(gray,100,0.01,50)\n",
    "\n",
    "for corner in corners:\n",
    "    x,y = corner[0]\n",
    "    x = int(x)\n",
    "    y = int(y)\n",
    "    cv2.rectangle(image,(x-10,y-10),(x+10,y+10),(200,100,200),-1)\n",
    "\n",
    "cv2.imshow(\"Good Features to Track - Corners\",image)\n",
    "cv2.waitKey()\n",
    "cv2.destroyAllWindows()"
   ]
  },
  {
   "cell_type": "code",
   "execution_count": null,
   "metadata": {},
   "outputs": [],
   "source": []
  }
 ],
 "metadata": {
  "kernelspec": {
   "display_name": "Python 3",
   "language": "python",
   "name": "python3"
  },
  "language_info": {
   "codemirror_mode": {
    "name": "ipython",
    "version": 3
   },
   "file_extension": ".py",
   "mimetype": "text/x-python",
   "name": "python",
   "nbconvert_exporter": "python",
   "pygments_lexer": "ipython3",
   "version": "3.7.7"
  }
 },
 "nbformat": 4,
 "nbformat_minor": 4
}
