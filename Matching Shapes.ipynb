{
 "cells": [
  {
   "cell_type": "markdown",
   "metadata": {},
   "source": [
    "# Matching Shapes"
   ]
  },
  {
   "cell_type": "code",
   "execution_count": 1,
   "metadata": {},
   "outputs": [],
   "source": [
    "import cv2\n",
    "import numpy as np"
   ]
  },
  {
   "cell_type": "code",
   "execution_count": 17,
   "metadata": {},
   "outputs": [
    {
     "name": "stdout",
     "output_type": "stream",
     "text": [
      "0.16816738509405638\n",
      "0.19945789512842738\n",
      "0.18942875773031287\n",
      "0.11096813416976081\n"
     ]
    }
   ],
   "source": [
    "# Load the shape template or reference image\n",
    "template = cv2.imread(\"../images/4star.jpg\",0)\n",
    "cv2.imshow(\"Template\",template)\n",
    "cv2.waitKey()\n",
    "\n",
    "# Loading the target image woth the shapes we are trying to match\n",
    "target = cv2.imread(\"../images/shapestomatch.jpg\")\n",
    "target_gray = cv2.cvtColor(target,cv2.COLOR_BGR2GRAY)\n",
    "\n",
    "# Thersholding both the images\n",
    "_,thres1 = cv2.threshold(template,130,255,cv2.THRESH_BINARY)\n",
    "_,thres2 = cv2.threshold(target_gray,130,255,cv2.THRESH_BINARY)\n",
    "\n",
    "# Finding contours of template image\n",
    "contours_template,hierarchy = cv2.findContours(thres1,cv2.RETR_CCOMP,cv2.CHAIN_APPROX_SIMPLE)\n",
    "\n",
    "# Sorting contours and taking second largest contour based on area\n",
    "template_contour = sorted(contours_template,key=cv2.contourArea,reverse=True)[1]\n",
    "\n",
    "# Finding contours of target image\n",
    "contours_target,hierarchy = cv2.findContours(thres2,cv2.RETR_CCOMP,cv2.CHAIN_APPROX_SIMPLE)\n",
    "\n",
    "# Iterating through each contour in target image and using cv2.matchShapes to compare contour shapes\n",
    "for cnt in contours_target:\n",
    "    match = cv2.matchShapes(template_contour,cnt,1,0.0)\n",
    "    print(match)\n",
    "    if match < 0.15:\n",
    "        closest_contour = cnt\n",
    "    else:\n",
    "        closest_contour = []\n",
    "\n",
    "# Drawing the closest_contour in target image\n",
    "cv2.drawContours(target,[closest_contour],-1,(0,255,0),3)\n",
    "cv2.imshow(\"Target\",target)\n",
    "cv2.waitKey()\n",
    "cv2.destroyAllWindows()"
   ]
  },
  {
   "cell_type": "code",
   "execution_count": null,
   "metadata": {},
   "outputs": [],
   "source": []
  }
 ],
 "metadata": {
  "kernelspec": {
   "display_name": "Python 3",
   "language": "python",
   "name": "python3"
  },
  "language_info": {
   "codemirror_mode": {
    "name": "ipython",
    "version": 3
   },
   "file_extension": ".py",
   "mimetype": "text/x-python",
   "name": "python",
   "nbconvert_exporter": "python",
   "pygments_lexer": "ipython3",
   "version": "3.7.7"
  }
 },
 "nbformat": 4,
 "nbformat_minor": 4
}
