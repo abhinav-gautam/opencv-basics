{
 "cells": [
  {
   "cell_type": "markdown",
   "metadata": {},
   "source": [
    "# Arithmetic Operations"
   ]
  },
  {
   "cell_type": "code",
   "execution_count": 1,
   "metadata": {},
   "outputs": [],
   "source": [
    "import cv2\n",
    "import numpy as np"
   ]
  },
  {
   "cell_type": "code",
   "execution_count": 2,
   "metadata": {},
   "outputs": [],
   "source": [
    "# Reading Image\n",
    "image = cv2.imread(\"../images/input.jpg\")\n",
    "\n",
    "# Creating a numpy array of 1 and multiplying it with scalar 75\n",
    "M = np.ones(image.shape,dtype=\"uint8\") * 75\n",
    "\n",
    "# Adding this matrix M to our image this will increase its brightness\n",
    "added = cv2.add(image,M)\n",
    "cv2.imshow(\"Added\",added)\n",
    "cv2.waitKey()\n",
    "\n",
    "# Subtracting the matirx M from the image this will decrease its brightness\n",
    "subtracted = cv2.subtract(image,M)\n",
    "cv2.imshow(\"Subtracted\",subtracted)\n",
    "cv2.waitKey()\n",
    "\n",
    "cv2.destroyAllWindows()"
   ]
  },
  {
   "cell_type": "code",
   "execution_count": null,
   "metadata": {},
   "outputs": [],
   "source": []
  }
 ],
 "metadata": {
  "kernelspec": {
   "display_name": "Python 3",
   "language": "python",
   "name": "python3"
  },
  "language_info": {
   "codemirror_mode": {
    "name": "ipython",
    "version": 3
   },
   "file_extension": ".py",
   "mimetype": "text/x-python",
   "name": "python",
   "nbconvert_exporter": "python",
   "pygments_lexer": "ipython3",
   "version": "3.7.7"
  }
 },
 "nbformat": 4,
 "nbformat_minor": 4
}
