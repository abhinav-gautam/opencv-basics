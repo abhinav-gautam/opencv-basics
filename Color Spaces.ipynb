{
 "cells": [
  {
   "cell_type": "markdown",
   "metadata": {},
   "source": [
    "# Color Spaces"
   ]
  },
  {
   "cell_type": "code",
   "execution_count": 1,
   "metadata": {},
   "outputs": [],
   "source": [
    "import cv2\n",
    "import numpy as np"
   ]
  },
  {
   "cell_type": "code",
   "execution_count": 2,
   "metadata": {},
   "outputs": [],
   "source": [
    "# Displaying original image\n",
    "image = cv2.imread(\"image.jpg\")\n",
    "cv2.imshow(\"Original\",image)\n",
    "cv2.waitKey()\n",
    "cv2.destroyAllWindows()"
   ]
  },
  {
   "cell_type": "code",
   "execution_count": 3,
   "metadata": {},
   "outputs": [
    {
     "data": {
      "text/plain": [
       "(512, 512, 3)"
      ]
     },
     "execution_count": 3,
     "metadata": {},
     "output_type": "execute_result"
    }
   ],
   "source": [
    "# Image shape\n",
    "image.shape"
   ]
  },
  {
   "cell_type": "code",
   "execution_count": 4,
   "metadata": {},
   "outputs": [
    {
     "name": "stdout",
     "output_type": "stream",
     "text": [
      "116 215 243\n"
     ]
    }
   ],
   "source": [
    "# BGR Values for the (156,154) pixel\n",
    "B,G,R = image[(156,154)]\n",
    "print(B,G,R)"
   ]
  },
  {
   "cell_type": "code",
   "execution_count": 5,
   "metadata": {},
   "outputs": [
    {
     "name": "stdout",
     "output_type": "stream",
     "text": [
      "Image Shape (512, 512)\n",
      "Gray Value 212\n"
     ]
    }
   ],
   "source": [
    "# Converting image to grayscale\n",
    "gray_image = cv2.cvtColor(image,cv2.COLOR_BGR2GRAY)\n",
    "\n",
    "# Image shape\n",
    "print(\"Image Shape\",gray_image.shape)\n",
    "\n",
    "# Gray Value for the first 0,0 pixel\n",
    "print(\"Gray Value\",gray_image[156,154])"
   ]
  },
  {
   "cell_type": "markdown",
   "metadata": {},
   "source": [
    "## HSV Color Space"
   ]
  },
  {
   "cell_type": "code",
   "execution_count": 6,
   "metadata": {},
   "outputs": [],
   "source": [
    "#H: 0 - 180, S: 0 - 255, V: 0 - 255\n",
    "image = cv2.imread(\"image.jpg\")\n",
    "\n",
    "# Converting BGR image to HSV image\n",
    "hsv_image = cv2.cvtColor(image,cv2.COLOR_BGR2HSV)\n",
    "\n",
    "# Displaying HSV Image\n",
    "cv2.imshow(\"HSV Image\",hsv_image)\n",
    "\n",
    "# Displaying different channels of HSV image\n",
    "cv2.imshow(\"Hue Channel\",hsv_image[:,:,0])\n",
    "cv2.imshow(\"Saturation Channel\",hsv_image[:,:,1])\n",
    "cv2.imshow(\"Value Channel\",hsv_image[:,:,2])\n",
    "\n",
    "cv2.waitKey()\n",
    "cv2.destroyAllWindows()"
   ]
  },
  {
   "cell_type": "markdown",
   "metadata": {},
   "source": [
    "## Individual channels in RGB image"
   ]
  },
  {
   "cell_type": "code",
   "execution_count": 11,
   "metadata": {},
   "outputs": [
    {
     "name": "stdout",
     "output_type": "stream",
     "text": [
      "B Shape: (512, 512)\n"
     ]
    }
   ],
   "source": [
    "image = cv2.imread(\"image.jpg\")\n",
    "\n",
    "# OpenCV's 'split' function splits the image into each color index\n",
    "B,G,R = cv2.split(image)\n",
    "print(\"B Shape:\",B.shape)\n",
    "\n",
    "# Displaying individual channels\n",
    "cv2.imshow(\"B Channel\",B)\n",
    "cv2.imshow(\"G Channel\",G)\n",
    "cv2.imshow(\"R Channel\",R)\n",
    "\n",
    "# Re-creating the original image\n",
    "merged_image = cv2.merge([B,G,R])\n",
    "cv2.imshow(\"Merged Image\",merged_image)\n",
    "\n",
    "# Amplifing the blur color\n",
    "blue_amplified = cv2.merge([B+100,G,R])\n",
    "cv2.imshow(\"Blue Amplified\", blue_amplified)\n",
    "\n",
    "cv2.waitKey()\n",
    "cv2.destroyAllWindows()"
   ]
  },
  {
   "cell_type": "code",
   "execution_count": 12,
   "metadata": {},
   "outputs": [],
   "source": [
    "B, G, R = cv2.split(image)\n",
    "\n",
    "# Creating matrix of zeroes with dimensions of image h x w\n",
    "zeros = np.zeros(image.shape[:2],dtype=\"uint8\")\n",
    "\n",
    "# Displaying individual channels\n",
    "cv2.imshow(\"Red\", cv2.merge([zeros, zeros, R]))\n",
    "cv2.imshow(\"Green\", cv2.merge([zeros, G, zeros]))\n",
    "cv2.imshow(\"Blue\", cv2.merge([B, zeros, zeros]))\n",
    "\n",
    "cv2.waitKey()\n",
    "cv2.destroyAllWindows()"
   ]
  },
  {
   "cell_type": "code",
   "execution_count": null,
   "metadata": {},
   "outputs": [],
   "source": []
  }
 ],
 "metadata": {
  "kernelspec": {
   "display_name": "Python 3",
   "language": "python",
   "name": "python3"
  },
  "language_info": {
   "codemirror_mode": {
    "name": "ipython",
    "version": 3
   },
   "file_extension": ".py",
   "mimetype": "text/x-python",
   "name": "python",
   "nbconvert_exporter": "python",
   "pygments_lexer": "ipython3",
   "version": "3.7.7"
  }
 },
 "nbformat": 4,
 "nbformat_minor": 4
}
