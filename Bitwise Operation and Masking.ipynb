{
 "cells": [
  {
   "cell_type": "markdown",
   "metadata": {},
   "source": [
    "# Bitwise Operations and Masking"
   ]
  },
  {
   "cell_type": "code",
   "execution_count": 1,
   "metadata": {},
   "outputs": [],
   "source": [
    "import cv2\n",
    "import numpy as np"
   ]
  },
  {
   "cell_type": "code",
   "execution_count": 8,
   "metadata": {},
   "outputs": [],
   "source": [
    "# Making a square\n",
    "square = np.zeros((300,300),np.uint8)\n",
    "cv2.rectangle(square,(50,50),(250,250),255,-1)\n",
    "cv2.imshow(\"Rectangle\",square)\n",
    "cv2.waitKey()\n",
    "\n",
    "# Making a ellipse\n",
    "ellipse = np.zeros((300,300),np.uint8)\n",
    "cv2.ellipse(ellipse,(150,150),(150,150),30,0,180,255,-1)\n",
    "cv2.imshow(\"Ellipse\",ellipse)\n",
    "cv2.waitKey()\n",
    "cv2.destroyAllWindows()"
   ]
  },
  {
   "cell_type": "code",
   "execution_count": 11,
   "metadata": {},
   "outputs": [],
   "source": [
    "# Shows only when they intersect\n",
    "bitwise_and = cv2.bitwise_and(square,ellipse)\n",
    "cv2.imshow(\"And\",bitwise_and)\n",
    "cv2.waitKey()\n",
    "\n",
    "# Shows where either square or ellipse is\n",
    "bitwise_or = cv2.bitwise_or(square,ellipse)\n",
    "cv2.imshow(\"or\",bitwise_or)\n",
    "cv2.waitKey()\n",
    "\n",
    "# Shows where either exists by itself\n",
    "bitwise_xor = cv2.bitwise_xor(square,ellipse)\n",
    "cv2.imshow(\"xor\",bitwise_xor)\n",
    "cv2.waitKey()\n",
    "\n",
    "# Shows everything that isn't part of the square\n",
    "bitwise_not_sq = cv2.bitwise_not(square)\n",
    "cv2.imshow(\"not\",bitwise_not_sq)\n",
    "cv2.waitKey()\n",
    "cv2.destroyAllWindows()"
   ]
  },
  {
   "cell_type": "code",
   "execution_count": null,
   "metadata": {},
   "outputs": [],
   "source": []
  }
 ],
 "metadata": {
  "kernelspec": {
   "display_name": "Python 3",
   "language": "python",
   "name": "python3"
  },
  "language_info": {
   "codemirror_mode": {
    "name": "ipython",
    "version": 3
   },
   "file_extension": ".py",
   "mimetype": "text/x-python",
   "name": "python",
   "nbconvert_exporter": "python",
   "pygments_lexer": "ipython3",
   "version": "3.7.7"
  }
 },
 "nbformat": 4,
 "nbformat_minor": 4
}
