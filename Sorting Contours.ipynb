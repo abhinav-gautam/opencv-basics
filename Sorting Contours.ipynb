{
 "cells": [
  {
   "cell_type": "markdown",
   "metadata": {},
   "source": [
    "# Sorting Contours"
   ]
  },
  {
   "cell_type": "code",
   "execution_count": 1,
   "metadata": {},
   "outputs": [],
   "source": [
    "import cv2\n",
    "import numpy as np"
   ]
  },
  {
   "cell_type": "code",
   "execution_count": 5,
   "metadata": {},
   "outputs": [
    {
     "name": "stdout",
     "output_type": "stream",
     "text": [
      "Number of contours found: 4\n"
     ]
    }
   ],
   "source": [
    "# Loading image\n",
    "image = cv2.imread(\"../images/bunchofshapes.jpg\")\n",
    "cv2.imshow(\"Original\",image)\n",
    "cv2.waitKey()\n",
    "\n",
    "# Making copy of original image\n",
    "original_image = image\n",
    "\n",
    "# Creating a black image with the same dimensions as of loaded image\n",
    "black_image = np.zeros((image.shape[0],image.shape[1],3))\n",
    "# cv2.imshow(\"Black Image\",black_image)\n",
    "# cv2.waitKey()\n",
    "\n",
    "# Converting original image to grayscale\n",
    "gray_image = cv2.cvtColor(image,cv2.COLOR_BGR2GRAY)\n",
    "\n",
    "# Finding Canny Edges\n",
    "edged = cv2.Canny(gray_image,50,100)\n",
    "\n",
    "# Finding Contours\n",
    "contours,hierarchy = cv2.findContours(edged,cv2.RETR_EXTERNAL,cv2.CHAIN_APPROX_NONE)\n",
    "\n",
    "# Printing the number of contours found\n",
    "print(\"Number of contours found:\",len(contours))\n",
    "\n",
    "# Drawing all contours on black image\n",
    "cv2.drawContours(black_image,contours,-1,(0,255,0),3)\n",
    "cv2.imshow(\"Contours over black image\",black_image)\n",
    "cv2.waitKey()\n",
    "\n",
    "# Drawing all contours on original image\n",
    "cv2.drawContours(original_image,contours,-1,(0,255,0),3)\n",
    "cv2.imshow(\"Contours over original image\",original_image)\n",
    "cv2.waitKey()\n",
    "cv2.destroyAllWindows()"
   ]
  },
  {
   "cell_type": "markdown",
   "metadata": {},
   "source": [
    "## Sorting Contours by Area"
   ]
  },
  {
   "cell_type": "code",
   "execution_count": 10,
   "metadata": {},
   "outputs": [
    {
     "name": "stdout",
     "output_type": "stream",
     "text": [
      "Areas of the contours before sorting: [20587.5, 22900.5, 66581.5, 90222.0]\n",
      "Areas of the contours after sorting: [90222.0, 66581.5, 22900.5, 20587.5]\n"
     ]
    }
   ],
   "source": [
    "# Function that returns an array of areas of all contours\n",
    "def get_contour_area(contours):\n",
    "    all_areas = []\n",
    "    for cnt in contours:\n",
    "        area = cv2.contourArea(cnt)\n",
    "        all_areas.append(area)\n",
    "    return all_areas\n",
    "\n",
    "# Loading image\n",
    "image = cv2.imread(\"../images/bunchofshapes.jpg\")\n",
    "\n",
    "# Printing the areas of the contours before sorting\n",
    "print(\"Areas of the contours before sorting:\",get_contour_area(contours))\n",
    "\n",
    "# Sorting the contours\n",
    "sorted_contours = sorted(contours,key=cv2.contourArea,reverse=True)\n",
    "\n",
    "# Printing the areas of the contours after sorting\n",
    "print(\"Areas of the contours after sorting:\",get_contour_area(sorted_contours))\n",
    "\n",
    "# Iterating over the contours and drawing one at a time\n",
    "for cnt in sorted_contours:\n",
    "    cv2.drawContours(image,[cnt],-1,(255,0,0),3)\n",
    "    cv2.imshow(\"Contours\",image)\n",
    "    cv2.waitKey()\n",
    "cv2.destroyAllWindows()"
   ]
  },
  {
   "cell_type": "markdown",
   "metadata": {},
   "source": [
    "## Sorting Contours by Position"
   ]
  },
  {
   "cell_type": "code",
   "execution_count": 24,
   "metadata": {},
   "outputs": [],
   "source": [
    "# Loading image and making a copy\n",
    "image = cv2.imread(\"../images/bunchofshapes.jpg\")\n",
    "original_image = image.copy()\n",
    "\n",
    "# This function returns the x_cord for the contour centroid\n",
    "def x_cord_contour(contour):\n",
    "    if cv2.contourArea(contour) > 10:\n",
    "        M = cv2.moments(contour)\n",
    "        return (int(M['m10']/M['m00']))\n",
    "    else:\n",
    "        pass\n",
    "    \n",
    "# This function places a red circle at the center of contours\n",
    "def label_contour_center(image,contour):\n",
    "    M = cv2.moments(contour)\n",
    "    cx = int(M['m10']/M['m00'])\n",
    "    cy = int(M['m01']/M['m00'])\n",
    "    image = cv2.circle(image,(cx,cy),10,(0,0,255),-1)\n",
    "    return image\n",
    "\n",
    "# Drawing red circles at the center of each contours\n",
    "for cnt in contours:\n",
    "    label_contour_center(image,cnt)\n",
    "    \n",
    "# cv2.imshow(\"Contour Centers\",image)\n",
    "# cv2.waitKey()\n",
    "\n",
    "# Using our x_cord_contour function to sort the contours left to right\n",
    "sorted_contours = sorted(contours,key=x_cord_contour,reverse=False)\n",
    "\n",
    "# labeling contours left to right\n",
    "for (i,cnt) in enumerate(sorted_contours):\n",
    "    cv2.drawContours(original_image,[cnt],-1,(0,0,255),3)\n",
    "    M = cv2.moments(cnt)\n",
    "    cx = int(M['m10']/M['m00'])\n",
    "    cy = int(M['m01']/M['m00'])\n",
    "    cv2.putText(original_image,str(i+1),(cx,cy),cv2.FONT_HERSHEY_DUPLEX,1,(0,255,0),3)\n",
    "    cv2.imshow(\"Contour with Labels\",original_image)\n",
    "    cv2.waitKey()\n",
    "    \n",
    "    # Cropping each contours and saving the images\n",
    "    (x,y,w,h) = cv2.boundingRect(cnt)\n",
    "    cropped_contour = original_image[y:y+h,x:x+w]\n",
    "    image_name = \"ouput_shape_\"+str(i+1)+\".jpg\"\n",
    "    cv2.imwrite(image_name,cropped_contour)\n",
    "cv2.destroyAllWindows()"
   ]
  },
  {
   "cell_type": "code",
   "execution_count": null,
   "metadata": {},
   "outputs": [],
   "source": []
  }
 ],
 "metadata": {
  "kernelspec": {
   "display_name": "Python 3",
   "language": "python",
   "name": "python3"
  },
  "language_info": {
   "codemirror_mode": {
    "name": "ipython",
    "version": 3
   },
   "file_extension": ".py",
   "mimetype": "text/x-python",
   "name": "python",
   "nbconvert_exporter": "python",
   "pygments_lexer": "ipython3",
   "version": "3.7.7"
  }
 },
 "nbformat": 4,
 "nbformat_minor": 4
}
