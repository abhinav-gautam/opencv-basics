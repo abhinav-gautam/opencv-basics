{
 "cells": [
  {
   "cell_type": "markdown",
   "metadata": {},
   "source": [
    "# Thresholding, Binarization and Adaptive Thersholding"
   ]
  },
  {
   "cell_type": "code",
   "execution_count": 1,
   "metadata": {},
   "outputs": [],
   "source": [
    "import cv2\n",
    "import numpy as np"
   ]
  },
  {
   "cell_type": "code",
   "execution_count": 7,
   "metadata": {},
   "outputs": [],
   "source": [
    "# Loading image as grayscale\n",
    "image = cv2.imread(\"../images/gradient.jpg\",0)\n",
    "cv2.imshow(\"Original\",image)\n",
    "\n",
    "# Values below 127 goes to 0 (black), everything above goes to 255 (white)\n",
    "retval,thresh1 = cv2.threshold(image,127,255,cv2.THRESH_BINARY)\n",
    "cv2.imshow(\"1 Threshold Binary\",thresh1)\n",
    "\n",
    "# Values below 127 go to 255 and values above 127 go to 0 (reverse of above)\n",
    "retval,thresh2 = cv2.threshold(image,127,255,cv2.THRESH_BINARY_INV)\n",
    "cv2.imshow(\"2 Threshold Binary Inverse\",thresh2)\n",
    "\n",
    "# Values above 127 are truncated (held) at 127 (the 255 argument is unused)\n",
    "retval,thresh3 = cv2.threshold(image,127,255,cv2.THRESH_TRUNC)\n",
    "cv2.imshow(\"3 Threshold Truncated\",thresh3)\n",
    "\n",
    "# Values below 127 go to 0, above 127 are unchanged  \n",
    "retval,thresh4 = cv2.threshold(image, 127, 255, cv2.THRESH_TOZERO)\n",
    "cv2.imshow('4 THRESH TOZERO', thresh4)\n",
    "\n",
    "# Reseve of above, below 127 is unchanged, above 127 goes to 0\n",
    "retval,thresh5 = cv2.threshold(image, 127, 255, cv2.THRESH_TOZERO_INV)\n",
    "cv2.imshow('5 THRESH TOZERO INV', thresh5)\n",
    "\n",
    "cv2.waitKey()\n",
    "cv2.destroyAllWindows()"
   ]
  },
  {
   "cell_type": "markdown",
   "metadata": {},
   "source": [
    "## Drawback\n",
    "The biggest downfall of those simple threshold methods is that we need to provide the threshold value (i.e. the 127 value we used previously)."
   ]
  },
  {
   "cell_type": "markdown",
   "metadata": {},
   "source": [
    "## Adaptive Thersholding"
   ]
  },
  {
   "cell_type": "code",
   "execution_count": 17,
   "metadata": {},
   "outputs": [],
   "source": [
    "# Loading the new image in grayscale\n",
    "image = cv2.imread('../images/Origin_of_Species.jpg', 0)\n",
    "cv2.imshow(\"Original\",image)\n",
    "\n",
    "# Values below 127 goes to 0 (black), everything above goes to 255 (white)\n",
    "retval,thresh1 = cv2.threshold(image,127,255,cv2.THRESH_BINARY)\n",
    "cv2.imshow(\"1 Threshold Binary\",thresh1)\n",
    "\n",
    "# Blurring image to remove noise\n",
    "blur_image = cv2.GaussianBlur(image,(3,3),0)\n",
    "\n",
    "# Using adaptiveThershold\n",
    "thresh2 = cv2.adaptiveThreshold(blur_image,255,cv2.ADAPTIVE_THRESH_MEAN_C,cv2.THRESH_BINARY,3,5)\n",
    "cv2.imshow(\"2 Adaptive Mean Thresholding\",thresh2)\n",
    "\n",
    "# OTSU's Thresholding\n",
    "_, thresh3 = cv2.threshold(image,0,255,cv2.THRESH_BINARY+cv2.THRESH_OTSU)\n",
    "cv2.imshow(\"3 OTSU Thresholding\",thresh3)\n",
    "\n",
    "# OTSU's Thresholding after Gaussian Filtering\n",
    "_, thresh4 = cv2.threshold(blur_image,0,255,cv2.THRESH_BINARY+cv2.THRESH_OTSU)\n",
    "cv2.imshow(\"4 OTSU Gaussian Thresholding\",thresh4)\n",
    "\n",
    "cv2.waitKey()\n",
    "cv2.destroyAllWindows()"
   ]
  },
  {
   "cell_type": "code",
   "execution_count": null,
   "metadata": {},
   "outputs": [],
   "source": []
  }
 ],
 "metadata": {
  "kernelspec": {
   "display_name": "Python 3",
   "language": "python",
   "name": "python3"
  },
  "language_info": {
   "codemirror_mode": {
    "name": "ipython",
    "version": 3
   },
   "file_extension": ".py",
   "mimetype": "text/x-python",
   "name": "python",
   "nbconvert_exporter": "python",
   "pygments_lexer": "ipython3",
   "version": "3.7.7"
  }
 },
 "nbformat": 4,
 "nbformat_minor": 4
}
