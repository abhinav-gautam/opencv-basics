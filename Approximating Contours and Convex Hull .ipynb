{
 "cells": [
  {
   "cell_type": "markdown",
   "metadata": {},
   "source": [
    "## Approximating Contours and Convex Hull \n",
    "\n",
    "***cv2.approxPolyDP(contour, Approximation Accuracy, Closed)***\n",
    "- **contour** – is the individual contour we wish to approximate\n",
    "- **Approximation Accuracy** – Important parameter is determining the accuracy of the approximation. Small values give precise-  approximations, large values give more generic approximation. A good rule of thumb is less than 5% of the contour perimeter\n",
    "- **Closed** – a Boolean value that states whether the approximate contour should be open or closed "
   ]
  },
  {
   "cell_type": "code",
   "execution_count": 1,
   "metadata": {},
   "outputs": [],
   "source": [
    "import cv2\n",
    "import numpy as np"
   ]
  },
  {
   "cell_type": "code",
   "execution_count": 32,
   "metadata": {},
   "outputs": [],
   "source": [
    "# Loading the image and making the copy\n",
    "image = cv2.imread(\"../images/house.jpg\")\n",
    "original_image1 = image.copy()\n",
    "original_image2 = image.copy()\n",
    "\n",
    "cv2.imshow(\"Image\",image)\n",
    "\n",
    "# Making image grayscale\n",
    "gray = cv2.cvtColor(image,cv2.COLOR_BGR2GRAY)\n",
    "\n",
    "# Binarizing the image\n",
    "_, bin_image = cv2.threshold(gray,100,255,cv2.THRESH_BINARY_INV)\n",
    "\n",
    "# Finding contours\n",
    "contours,hierarchy = cv2.findContours(bin_image,cv2.RETR_LIST,cv2.CHAIN_APPROX_NONE)\n",
    "\n",
    "# Drawing contours\n",
    "cv2.drawContours(image,contours,-1,(0,0,255),2)\n",
    "cv2.imshow(\"Contours\",image)\n",
    "\n",
    "# Iterating through the contours and finding binding rectangle for each contour\n",
    "for cnt in contours:\n",
    "    (x,y,w,h) = cv2.boundingRect(cnt)\n",
    "    cv2.rectangle(original_image1,(x,y),(x+w,y+h),(0,0,255),2)\n",
    "cv2.imshow(\"Bounding Rect\",original_image1)\n",
    "cv2.waitKey()\n",
    "\n",
    "# Iterating through each contour and compute the approx contour\n",
    "for cnt in contours:\n",
    "    # Calculate accuracy as the percentage of the contour perimeter\n",
    "    accuracy = 0.03 * cv2.arcLength(cnt,True)\n",
    "    approx = cv2.approxPolyDP(cnt,accuracy,True)\n",
    "    cv2.drawContours(original_image2,[approx],-1,(0,255,0),2)\n",
    "cv2.imshow(\"Approximate Contours\",original_image2)\n",
    "cv2.waitKey()\n",
    "cv2.destroyAllWindows()"
   ]
  },
  {
   "cell_type": "markdown",
   "metadata": {},
   "source": [
    "## Convex Hull"
   ]
  },
  {
   "cell_type": "code",
   "execution_count": 30,
   "metadata": {},
   "outputs": [],
   "source": [
    "# Loading Image\n",
    "image = cv2.imread(\"../images/hand.jpg\")\n",
    "cv2.imshow(\"Original\",image)\n",
    "\n",
    "# Converting it to grayscale\n",
    "gray = cv2.cvtColor(image,cv2.COLOR_BGR2GRAY)\n",
    "\n",
    "# Thresholding the image\n",
    "_,thresh = cv2.threshold(gray,170,255,cv2.THRESH_BINARY)\n",
    "\n",
    "# Finding contours\n",
    "contours,hierarchy = cv2.findContours(thresh,cv2.RETR_LIST,cv2.CHAIN_APPROX_NONE)\n",
    "\n",
    "# Removing the contour of largest area\n",
    "n = len(contours) - 1\n",
    "sorted_contours = sorted(contours,key=cv2.contourArea)[:n]\n",
    "\n",
    "# looping through all the sorted contours and finding the convex hull\n",
    "for cnt in sorted_contours:\n",
    "    hull = cv2.convexHull(cnt)\n",
    "    cv2.drawContours(image,[hull],-1,(0,255,0),2)\n",
    "cv2.imshow(\"Convex Hull\",image)\n",
    "cv2.waitKey()\n",
    "cv2.destroyAllWindows()"
   ]
  },
  {
   "cell_type": "code",
   "execution_count": null,
   "metadata": {},
   "outputs": [],
   "source": []
  }
 ],
 "metadata": {
  "kernelspec": {
   "display_name": "Python 3",
   "language": "python",
   "name": "python3"
  },
  "language_info": {
   "codemirror_mode": {
    "name": "ipython",
    "version": 3
   },
   "file_extension": ".py",
   "mimetype": "text/x-python",
   "name": "python",
   "nbconvert_exporter": "python",
   "pygments_lexer": "ipython3",
   "version": "3.7.7"
  }
 },
 "nbformat": 4,
 "nbformat_minor": 4
}
