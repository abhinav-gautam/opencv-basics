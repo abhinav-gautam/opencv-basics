{
 "cells": [
  {
   "cell_type": "markdown",
   "metadata": {},
   "source": [
    "# Contours\n",
    "contours, hierarchy = cv2.findContours(image, cv2.RETR_EXTERNAL, cv2.CHAIN_APPROX_NONE)"
   ]
  },
  {
   "cell_type": "code",
   "execution_count": 1,
   "metadata": {},
   "outputs": [],
   "source": [
    "import cv2\n",
    "import numpy as np"
   ]
  },
  {
   "cell_type": "code",
   "execution_count": 11,
   "metadata": {},
   "outputs": [
    {
     "name": "stdout",
     "output_type": "stream",
     "text": [
      "Number of contours found:  3\n"
     ]
    }
   ],
   "source": [
    "# Loading image as grayscale\n",
    "image = cv2.imread(\"../images/shapes.jpg\")\n",
    "cv2.imshow(\"Original\",image)\n",
    "cv2.waitKey()\n",
    "\n",
    "# Converting to grayscale\n",
    "gray = cv2.cvtColor(image,cv2.COLOR_BGR2GRAY)\n",
    "\n",
    "# Extracting canny edges\n",
    "edged = cv2.Canny(gray,30,200)\n",
    "cv2.imshow(\"Edged\",edged)\n",
    "\n",
    "# Finding contours\n",
    "# findContours alters the image so we can use image.copy()\n",
    "contours,hierarchy = cv2.findContours(edged,cv2.RETR_EXTERNAL,cv2.CHAIN_APPROX_SIMPLE)\n",
    "\n",
    "cv2.imshow(\"Edged Image after Contours\",edged)\n",
    "cv2.waitKey()\n",
    "\n",
    "print(\"Number of contours found: \",len(contours))\n",
    "\n",
    "# Drawing contours. -1 to draw all contours\n",
    "cv2.drawContours(image,contours,-1,(0,255,0),3)\n",
    "cv2.imshow(\"Contours\",image)\n",
    "cv2.waitKey()\n",
    "cv2.destroyAllWindows()"
   ]
  },
  {
   "cell_type": "code",
   "execution_count": 12,
   "metadata": {},
   "outputs": [
    {
     "data": {
      "text/plain": [
       "[array([[[368, 157]],\n",
       " \n",
       "        [[366, 159]],\n",
       " \n",
       "        [[367, 160]],\n",
       " \n",
       "        [[366, 161]],\n",
       " \n",
       "        [[366, 296]],\n",
       " \n",
       "        [[367, 297]],\n",
       " \n",
       "        [[367, 302]],\n",
       " \n",
       "        [[487, 302]],\n",
       " \n",
       "        [[488, 303]],\n",
       " \n",
       "        [[491, 303]],\n",
       " \n",
       "        [[493, 301]],\n",
       " \n",
       "        [[492, 300]],\n",
       " \n",
       "        [[492, 299]],\n",
       " \n",
       "        [[493, 298]],\n",
       " \n",
       "        [[493, 297]],\n",
       " \n",
       "        [[492, 296]],\n",
       " \n",
       "        [[492, 160]],\n",
       " \n",
       "        [[493, 159]],\n",
       " \n",
       "        [[491, 157]],\n",
       " \n",
       "        [[490, 158]],\n",
       " \n",
       "        [[487, 158]],\n",
       " \n",
       "        [[486, 157]]], dtype=int32),\n",
       " array([[[520,  63]],\n",
       " \n",
       "        [[518,  65]],\n",
       " \n",
       "        [[518, 310]],\n",
       " \n",
       "        [[519, 311]],\n",
       " \n",
       "        [[782, 311]],\n",
       " \n",
       "        [[782,  64]],\n",
       " \n",
       "        [[781,  63]]], dtype=int32),\n",
       " array([[[ 16,  19]],\n",
       " \n",
       "        [[ 15,  20]],\n",
       " \n",
       "        [[ 15,  21]],\n",
       " \n",
       "        [[ 14,  22]],\n",
       " \n",
       "        [[ 14, 305]],\n",
       " \n",
       "        [[ 15, 306]],\n",
       " \n",
       "        [[ 15, 308]],\n",
       " \n",
       "        [[330, 308]],\n",
       " \n",
       "        [[330, 307]],\n",
       " \n",
       "        [[331, 306]],\n",
       " \n",
       "        [[331, 304]],\n",
       " \n",
       "        [[330, 303]],\n",
       " \n",
       "        [[330,  23]],\n",
       " \n",
       "        [[331,  22]],\n",
       " \n",
       "        [[331,  21]],\n",
       " \n",
       "        [[330,  20]],\n",
       " \n",
       "        [[329,  20]],\n",
       " \n",
       "        [[328,  19]]], dtype=int32)]"
      ]
     },
     "execution_count": 12,
     "metadata": {},
     "output_type": "execute_result"
    }
   ],
   "source": [
    "contours"
   ]
  },
  {
   "cell_type": "code",
   "execution_count": null,
   "metadata": {},
   "outputs": [],
   "source": []
  }
 ],
 "metadata": {
  "kernelspec": {
   "display_name": "Python 3",
   "language": "python",
   "name": "python3"
  },
  "language_info": {
   "codemirror_mode": {
    "name": "ipython",
    "version": 3
   },
   "file_extension": ".py",
   "mimetype": "text/x-python",
   "name": "python",
   "nbconvert_exporter": "python",
   "pygments_lexer": "ipython3",
   "version": "3.7.7"
  }
 },
 "nbformat": 4,
 "nbformat_minor": 4
}
