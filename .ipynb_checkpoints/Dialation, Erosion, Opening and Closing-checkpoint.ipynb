{
 "cells": [
  {
   "cell_type": "markdown",
   "metadata": {},
   "source": [
    "# Dialation, Erosion, Opening and Closing"
   ]
  },
  {
   "cell_type": "code",
   "execution_count": 1,
   "metadata": {},
   "outputs": [],
   "source": [
    "import cv2\n",
    "import numpy as np"
   ]
  },
  {
   "cell_type": "code",
   "execution_count": 7,
   "metadata": {},
   "outputs": [],
   "source": [
    "image = cv2.imread(\"../images/opencv_inv.png\",0)\n",
    "cv2.imshow(\"Original\",image)\n",
    "\n",
    "# Defining kernal\n",
    "kernal = np.ones((5,5),np.uint8)\n",
    "\n",
    "# Erosion\n",
    "erosion = cv2.erode(image,kernal)\n",
    "cv2.imshow(\"Erosion\",erosion)\n",
    "cv2.waitKey()\n",
    "\n",
    "# Dilation\n",
    "dilation = cv2.dilate(image,kernal)\n",
    "cv2.imshow(\"Dialtion\",dilation)\n",
    "cv2.waitKey()\n",
    "\n",
    "# Opening\n",
    "opening = cv2.morphologyEx(image,cv2.MORPH_OPEN,kernal)\n",
    "cv2.imshow(\"Opening\",opening)\n",
    "cv2.waitKey()\n",
    "\n",
    "# Closing\n",
    "closing = cv2.morphologyEx(image,cv2.MORPH_CLOSE,kernal)\n",
    "cv2.imshow(\"Closing\",closing)\n",
    "cv2.waitKey()\n",
    "\n",
    "cv2.destroyAllWindows()"
   ]
  },
  {
   "cell_type": "code",
   "execution_count": null,
   "metadata": {},
   "outputs": [],
   "source": []
  }
 ],
 "metadata": {
  "kernelspec": {
   "display_name": "Python 3",
   "language": "python",
   "name": "python3"
  },
  "language_info": {
   "codemirror_mode": {
    "name": "ipython",
    "version": 3
   },
   "file_extension": ".py",
   "mimetype": "text/x-python",
   "name": "python",
   "nbconvert_exporter": "python",
   "pygments_lexer": "ipython3",
   "version": "3.7.7"
  }
 },
 "nbformat": 4,
 "nbformat_minor": 4
}
