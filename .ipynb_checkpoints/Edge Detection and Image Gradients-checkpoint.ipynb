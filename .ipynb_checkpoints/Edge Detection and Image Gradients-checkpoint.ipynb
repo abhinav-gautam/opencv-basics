{
 "cells": [
  {
   "cell_type": "markdown",
   "metadata": {},
   "source": [
    "# Edge Detection and Image Gradients"
   ]
  },
  {
   "cell_type": "code",
   "execution_count": 1,
   "metadata": {},
   "outputs": [],
   "source": [
    "import cv2\n",
    "import numpy as np"
   ]
  },
  {
   "cell_type": "code",
   "execution_count": 15,
   "metadata": {},
   "outputs": [],
   "source": [
    "image = cv2.imread(\"../images/input.jpg\",0)\n",
    "cv2.imshow(\"Original\",image)\n",
    "height,width = image.shape\n",
    "\n",
    "# Sobel Edges\n",
    "sobel_x = cv2.Sobel(image,cv2.CV_64F,0,1,ksize=3)\n",
    "sobel_y = cv2.Sobel(image,cv2.CV_64F,1,0,ksize=3)\n",
    "\n",
    "cv2.imshow(\"Sobel_x\",sobel_x)\n",
    "cv2.imshow(\"Sobel_y\",sobel_y)\n",
    "cv2.waitKey()\n",
    "\n",
    "sobel_or = cv2.bitwise_or(sobel_x,sobel_y)\n",
    "cv2.imshow(\"Sobel_or\",sobel_or)\n",
    "cv2.waitKey()\n",
    "\n",
    "# Laplacian Edges\n",
    "laplacian = cv2.Laplacian(image,cv2.CV_64F)\n",
    "cv2.imshow(\"Laplacian\",laplacian)\n",
    "cv2.waitKey()\n",
    "\n",
    "# Canny Edges\n",
    "canny = cv2.Canny(image,40,10)\n",
    "cv2.imshow(\"Canny\",canny)\n",
    "cv2.waitKey()\n",
    "\n",
    "cv2.destroyAllWindows()"
   ]
  },
  {
   "cell_type": "code",
   "execution_count": null,
   "metadata": {},
   "outputs": [],
   "source": []
  },
  {
   "cell_type": "code",
   "execution_count": null,
   "metadata": {},
   "outputs": [],
   "source": []
  }
 ],
 "metadata": {
  "kernelspec": {
   "display_name": "Python 3",
   "language": "python",
   "name": "python3"
  },
  "language_info": {
   "codemirror_mode": {
    "name": "ipython",
    "version": 3
   },
   "file_extension": ".py",
   "mimetype": "text/x-python",
   "name": "python",
   "nbconvert_exporter": "python",
   "pygments_lexer": "ipython3",
   "version": "3.7.7"
  }
 },
 "nbformat": 4,
 "nbformat_minor": 4
}
