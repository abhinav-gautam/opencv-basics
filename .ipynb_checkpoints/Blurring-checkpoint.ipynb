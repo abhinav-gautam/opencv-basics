{
 "cells": [
  {
   "cell_type": "markdown",
   "metadata": {},
   "source": [
    "# Blurring"
   ]
  },
  {
   "cell_type": "code",
   "execution_count": 1,
   "metadata": {},
   "outputs": [],
   "source": [
    "import cv2\n",
    "import numpy as np"
   ]
  },
  {
   "cell_type": "code",
   "execution_count": 8,
   "metadata": {},
   "outputs": [],
   "source": [
    "image = cv2.imread(\"../images/elephant.jpg\")\n",
    "cv2.imshow(\"Original\",image)\n",
    "cv2.waitKey()\n",
    "\n",
    "# Creating a 3X3 kernal\n",
    "kernal_3X3 = np.ones((3,3),np.float32)/9\n",
    "\n",
    "# Using the cv2.filter2D function to convolve the kernal with the image\n",
    "blurred_3X3 = cv2.filter2D(image,-1,kernal_3X3)\n",
    "cv2.imshow(\"Blurred 3X3\",blurred_3X3)\n",
    "cv2.waitKey()\n",
    "\n",
    "# Blurring with 7X7 kernal\n",
    "kernal_7X7 = np.ones((7,7),np.float32)/49\n",
    "blurred_7x7 = cv2.filter2D(image,-1,kernal_7X7)\n",
    "cv2.imshow(\"Blurred 7X7\",blurred_7x7)\n",
    "cv2.waitKey()\n",
    "\n",
    "cv2.destroyAllWindows()\n"
   ]
  },
  {
   "cell_type": "markdown",
   "metadata": {},
   "source": [
    "## Other blurring methods"
   ]
  },
  {
   "cell_type": "code",
   "execution_count": 17,
   "metadata": {},
   "outputs": [],
   "source": [
    "image = cv2.imread(\"../images/elephant.jpg\")\n",
    "cv2.imshow(\"Original\",image)\n",
    "\n",
    "# Averaging done by convolving the image with a normalized box filter. \n",
    "# This takes the pixels under the box and replaces the central element.\n",
    "# Box size needs to odd and positive.\n",
    "box = cv2.blur(image,(3,3))\n",
    "cv2.imshow(\"Averaging\",box)\n",
    "cv2.waitKey()\n",
    "\n",
    "# Gaussian Kernal Blur\n",
    "gaussian = cv2.GaussianBlur(image,(3,3),0)\n",
    "cv2.imshow(\"Gaussian\",gaussian)\n",
    "cv2.waitKey()\n",
    "\n",
    "# Medain blur takes median of all pixels under the kernal and replaces the central pixel with the median\n",
    "median = cv2.medianBlur(image,3)\n",
    "cv2.imshow(\"Medain\",median)\n",
    "cv2.waitKey()\n",
    "\n",
    "# Bilateral filter is very effective in noise removal while keeping the edges sharp. However, it is \n",
    "# very slow compared to most filters.\n",
    "bilateral = cv2.bilateralFilter(image,9,75,75)\n",
    "cv2.imshow(\"Bilateral\",bilateral)\n",
    "cv2.waitKey()\n",
    "\n",
    "cv2.destroyAllWindows()"
   ]
  },
  {
   "cell_type": "markdown",
   "metadata": {},
   "source": [
    "## Image De-noising - Non-Local Means Denoising\n",
    "#### There are 4 variations of Non-Local Means Denoising:\n",
    "\n",
    "cv2.fastNlMeansDenoising() - works with a single grayscale images <br/>\n",
    "cv2.fastNlMeansDenoisingColored() - works with a color image.<br/>\n",
    "cv2.fastNlMeansDenoisingMulti() - works with image sequence captured in short period of time (grayscale images)<br/>\n",
    "cv2.fastNlMeansDenoisingColoredMulti() - same as above, but for color images."
   ]
  },
  {
   "cell_type": "code",
   "execution_count": 19,
   "metadata": {},
   "outputs": [],
   "source": [
    "image = cv2.imread(\"../images/elephant.jpg\")\n",
    "\n",
    "dst = cv2.fastNlMeansDenoisingColored(image,None,6,6,7,21)\n",
    "\n",
    "cv2.imshow(\"Fast Means Denoising\",dst)\n",
    "cv2.waitKey()\n",
    "cv2.destroyAllWindows()"
   ]
  },
  {
   "cell_type": "code",
   "execution_count": null,
   "metadata": {},
   "outputs": [],
   "source": []
  }
 ],
 "metadata": {
  "kernelspec": {
   "display_name": "Python 3",
   "language": "python",
   "name": "python3"
  },
  "language_info": {
   "codemirror_mode": {
    "name": "ipython",
    "version": 3
   },
   "file_extension": ".py",
   "mimetype": "text/x-python",
   "name": "python",
   "nbconvert_exporter": "python",
   "pygments_lexer": "ipython3",
   "version": "3.7.7"
  }
 },
 "nbformat": 4,
 "nbformat_minor": 4
}
